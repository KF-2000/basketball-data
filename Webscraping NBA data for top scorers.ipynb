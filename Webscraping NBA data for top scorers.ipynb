{
 "metadata": {
  "language_info": {
   "codemirror_mode": {
    "name": "ipython",
    "version": 3
   },
   "file_extension": ".py",
   "mimetype": "text/x-python",
   "name": "python",
   "nbconvert_exporter": "python",
   "pygments_lexer": "ipython3",
   "version": "3.7.6-final"
  },
  "orig_nbformat": 2,
  "kernelspec": {
   "name": "Python 3.7.6 64-bit ('base': conda)",
   "display_name": "Python 3.7.6 64-bit ('base': conda)",
   "metadata": {
    "interpreter": {
     "hash": "54bd7b183a5689457db50215dcf96c48b2aeef51ee043d07751f799ca7598ef2"
    }
   }
  }
 },
 "nbformat": 4,
 "nbformat_minor": 2,
 "cells": [
  {
   "cell_type": "code",
   "execution_count": 1,
   "metadata": {},
   "outputs": [],
   "source": [
    "import pandas as pd\n",
    "import numpy as np\n",
    "import statsmodels.api as sm\n",
    "from urllib.request import urlopen\n",
    "from bs4 import BeautifulSoup"
   ]
  },
  {
   "source": [
    "The below two functions will allow me to retrieve the gamelogs and advanced gamelogs of a player by inputting the player's surname initial, name and the season I want data from into the function."
   ],
   "cell_type": "markdown",
   "metadata": {}
  },
  {
   "cell_type": "code",
   "execution_count": 2,
   "metadata": {},
   "outputs": [],
   "source": [
    "def game_log(initial, name, season):\n",
    "    '''\n",
    "    \n",
    "    initial : Initial of the player's surname. dtype=str\n",
    "    name : Name of the player you want data for. dtype=str\n",
    "    season : The season you want game logs from. ex. 2018-19 season is 2019. dtype=str\n",
    "    \n",
    "    '''\n",
    "    player_code = {'James Harden':'hardeja01', 'Anthony Davis':'davisan02', 'LeBron James':'jamesle01', 'Giannis Antetokounmpo':'antetgi01', 'Damian Lillard':'lillada01', 'Kevin Durant':'duranke01', 'Russell Westbrook':'westbru01', 'Kyrie Irving':'irvinky01', 'LaMarcus Aldridge':'aldrila01', 'Victor Oladipo':'oladivi01', 'Paul George':'georgpa01', 'Joel Embiid':'embiijo01', 'Stephen Curry':'curryst01', 'Devin Booker':'bookede01', 'Kawhi Leonard':'leonaka01', 'Bradley Beal':'bealbr01', 'Trae Young':'youngtr01', 'Luka Doncic':'doncilu01'}\n",
    "\n",
    "\n",
    "    # Formatting the string based on the requested player inputs so the correct data can be retrieved.\n",
    "\n",
    "    url = 'https://www.basketball-reference.com/players/{}/%({})s/gamelog/{}'.format(initial,name,season)\n",
    "    url = url % player_code\n",
    "    \n",
    "    html = urlopen(url)\n",
    "    soup = BeautifulSoup(html)\n",
    "\n",
    "    headers = [th.getText() for th in soup.findAll('thead')[0].findAll('th')][1:] # extracting the column headers from the HTML\n",
    "    stats = []\n",
    "    for i in range(len(soup.findAll('tr')[1:])):\n",
    "        stats.append([td.getText() for td in soup.findAll('tr')[1:][i].findAll('td')]) # retrieving the actual data from the HTML\n",
    "\n",
    "    stats = stats[33:] # omits GameLog summaries which is data I don't need\n",
    "    data = pd.DataFrame(stats, columns=headers)\n",
    "\n",
    "    inactive = []\n",
    "    for i in range(len(data)):\n",
    "        if data.iloc[i][7] == 'Inactive': # for each row checking whether the player (Trae Young in this case) played or not, if the player hasn't played then we'll omit the row.\n",
    "            inactive.append(i)\n",
    "        elif data.iloc[i][7] == 'Did Not Play':\n",
    "            inactive.append(i)\n",
    "        elif data.iloc[i][7] == 'Did Not Dress':\n",
    "            inactive.append(i)\n",
    "        elif data.iloc[i][7] is None:\n",
    "            inactive.append(i)\n",
    "    data = data.drop(inactive)\n",
    "\n",
    "    return data"
   ]
  },
  {
   "cell_type": "code",
   "execution_count": 3,
   "metadata": {},
   "outputs": [],
   "source": [
    "def advanced_game_log(initial, name, season):\n",
    "    '''\n",
    "    \n",
    "    initial : Initial of the player's surname. dtype=str\n",
    "    name : Name of the player you want data for. dtype=str\n",
    "    season : The season you want game logs from. ex. 2018-19 season is 2019. dtype=str\n",
    "    \n",
    "    '''\n",
    "    player_code = {'James Harden':'hardeja01', 'Anthony Davis':'davisan02', 'LeBron James':'jamesle01', 'Giannis Antetokounmpo':'antetgi01', 'Damian Lillard':'lillada01', 'Kevin Durant':'duranke01', 'Russell Westbrook':'westbru01', 'Kyrie Irving':'irvinky01', 'LaMarcus Aldridge':'aldrila01', 'Victor Oladipo':'oladivi01', 'Paul George':'georgpa01', 'Joel Embiid':'embiijo01', 'Stephen Curry':'curryst01', 'Devin Booker':'bookede01', 'Kawhi Leonard':'leonaka01', 'Bradley Beal':'bealbr01', 'Trae Young':'youngtr01', 'Luka Doncic':'doncilu01'}\n",
    "\n",
    "\n",
    "    # Formatting the string based on the requested player inputs so the correct data can be retrieved.\n",
    "\n",
    "    url = 'https://www.basketball-reference.com/players/{}/%({})s/gamelog-advanced/{}'.format(initial,name,season)\n",
    "    url = url % player_code\n",
    "    \n",
    "    html = urlopen(url)\n",
    "    soup = BeautifulSoup(html)\n",
    "\n",
    "    headers = [th.getText() for th in soup.findAll('thead')[0].findAll('th')][1:] # extracting the column headers from the HTML\n",
    "    stats = []\n",
    "    for i in range(len(soup.findAll('tr')[1:])):\n",
    "        stats.append([td.getText() for td in soup.findAll('tr')[1:][i].findAll('td')]) # retrieving the actual data from the HTML\n",
    "\n",
    "    data = pd.DataFrame(stats, columns=headers)\n",
    "\n",
    "    inactive = []\n",
    "    for i in range(len(data)):\n",
    "        if data.iloc[i][7] == 'Inactive': # for each row checking whether the player (Trae Young in this case) played or not, if the player hasn't played then we'll omit the row.\n",
    "            inactive.append(i)\n",
    "        elif data.iloc[i][7] == 'Did Not Play':\n",
    "            inactive.append(i)\n",
    "        elif data.iloc[i][7] == 'Did Not Dress':\n",
    "            inactive.append(i)\n",
    "        elif data.iloc[i][7] is None:\n",
    "            inactive.append(i)\n",
    "    data = data.drop(inactive)\n",
    "\n",
    "    return data"
   ]
  },
  {
   "cell_type": "code",
   "execution_count": 4,
   "metadata": {},
   "outputs": [],
   "source": [
    "# Now creating three lists with each player's surname initial, names and the seasons I want data for, for each player.\n",
    "initial = ['h', 'd', 'j', 'a', 'l', 'd', 'w', 'i', 'a', 'o', 'g', 'e', 'c', 'b', 'l', 'b', 'y', 'd']\n",
    "name = ['James Harden', 'Anthony Davis', 'LeBron James', 'Giannis Antetokounmpo', 'Damian Lillard', 'Kevin Durant', 'Russell Westbrook', 'Kyrie Irving', 'LaMarcus Aldridge', 'Victor Oladipo', 'Paul George', 'Joel Embiid', 'Stephen Curry', 'Devin Booker', 'Kawhi Leonard', 'Bradley Beal', 'Trae Young', 'Luka Doncic']\n",
    "season = [['2018','2019','2020'],['2018','2020'],['2018'],['2018','2019','2020'],['2018','2019','2020'],['2018','2019'],['2018','2020'],['2018'],['2018'],['2018'],['2019'],['2019'],['2019'],['2019','2020'],['2019','2020'],['2019','2020'],['2020'],['2020']]"
   ]
  },
  {
   "cell_type": "code",
   "execution_count": 5,
   "metadata": {},
   "outputs": [],
   "source": [
    "# Retrieving the feature data for the players and saving as CSV files.\n",
    "\n",
    "for i in range(len(name)):\n",
    "    for j in range(len(season[i])):\n",
    "        gamelog = game_log(initial[i],name[i],season[i][j])\n",
    "        advanced_gamelog = advanced_game_log(initial[i],name[i],season[i][j])\n",
    "        \n",
    "        # From the regular gamelogs I need FG, FGA, 3P, 3PA, FT, FTA\n",
    "\n",
    "        basic = gamelog[['FG','FGA','3P','3PA','FT','FTA']]\n",
    "\n",
    "        # From the advanced gamelogs I need USG% and ORtg\n",
    "\n",
    "        advanced = advanced_gamelog[['USG%','ORtg']]\n",
    "\n",
    "        # Merging the two dataframes together\n",
    "\n",
    "        basic.reset_index(drop=True, inplace=True)\n",
    "        advanced.reset_index(drop=True, inplace=True) # resets the indices of each dataframe so that they can be erge properly with each row aligning correctly.\n",
    "\n",
    "        data = pd.concat([basic,advanced],axis=1)\n",
    "\n",
    "        data.to_csv(r'C:\\Users\\frank\\OneDrive\\Documents\\DS\\ML Basketball Data\\Player Data\\{}\\{}'.format(name[i],season[i][j]))"
   ]
  },
  {
   "cell_type": "code",
   "execution_count": 6,
   "metadata": {},
   "outputs": [],
   "source": [
    "# Retrieving the label data for the players and saving as CSV files.\n",
    "\n",
    "for i in range(len(name)):\n",
    "    for j in range(len(season[i])):\n",
    "        gamelog = game_log(initial[i],name[i],season[i][j])\n",
    "        \n",
    "        # From the basic gamelogs I need the PTS data.\n",
    "\n",
    "        points = gamelog['PTS'] # retrieving the points in each game from the gamelogs.\n",
    "\n",
    "        points.reset_index(drop=True, inplace=True) # resetting the indices of the dataframe so they match in my features and my labels.\n",
    "\n",
    "        points.to_csv(r'C:\\Users\\frank\\OneDrive\\Documents\\DS\\ML Basketball Data\\Player Data\\{}\\Points\\{}'.format(name[i],season[i][j])) # uploading my dataframes into csv files saved on my computer."
   ]
  }
 ]
}